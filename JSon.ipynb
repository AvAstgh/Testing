{
 "cells": [
  {
   "cell_type": "code",
   "execution_count": 1,
   "id": "448eeee0",
   "metadata": {},
   "outputs": [
    {
     "name": "stdout",
     "output_type": "stream",
     "text": [
      "{\"name\": \"John\", \"age\": 30, \"city\": \"New York\"}\n"
     ]
    }
   ],
   "source": [
    "import json\n",
    "x={\"name\":\"John\", \"age\":30, \"city\":\"New York\"}\n",
    "y=json.dumps(x)\n",
    "print(y)"
   ]
  },
  {
   "cell_type": "code",
   "execution_count": 3,
   "id": "001dee66",
   "metadata": {},
   "outputs": [
    {
     "name": "stdout",
     "output_type": "stream",
     "text": [
      "{\n",
      "    \"age\": 30,\n",
      "    \"city\": \"New York\",\n",
      "    \"name\": \"John\"\n",
      "}\n"
     ]
    }
   ],
   "source": [
    "import json\n",
    "x={\"name\":\"John\", \"age\":30, \"city\":\"New York\"}\n",
    "y=json.dumps(x,indent=4,sort_keys=True)\n",
    "print(y)"
   ]
  },
  {
   "cell_type": "code",
   "execution_count": 4,
   "id": "232f05f6",
   "metadata": {},
   "outputs": [],
   "source": [
    "import json\n",
    "person_data={\"person\":{\"name\":\"Kenn\", \"sex\":\"male\", \"age\":28}}\n",
    "\n",
    "with open(\"json_file.json\", \"w\") as file_write:\n",
    "    json.dump(person_data,file_write)"
   ]
  },
  {
   "cell_type": "code",
   "execution_count": 10,
   "id": "cb2a4068",
   "metadata": {},
   "outputs": [
    {
     "name": "stdout",
     "output_type": "stream",
     "text": [
      "30\n"
     ]
    }
   ],
   "source": [
    "import json\n",
    "x='{\"name\":\"John\", \"age\":30, \"city\":\"New York\"}'\n",
    "y=json.loads(x)\n",
    "print(y['age'])"
   ]
  },
  {
   "cell_type": "code",
   "execution_count": 11,
   "id": "7667c572",
   "metadata": {},
   "outputs": [
    {
     "name": "stdout",
     "output_type": "stream",
     "text": [
      "28\n"
     ]
    }
   ],
   "source": [
    "import json\n",
    "x='{\"person\":{\"name\":\"Kenn\", \"sex\":\"male\", \"age\": 28}}'\n",
    "y=json.loads(x)\n",
    "print(y['person']['age'])"
   ]
  },
  {
   "cell_type": "code",
   "execution_count": 14,
   "id": "73eb6ef9",
   "metadata": {},
   "outputs": [
    {
     "name": "stdout",
     "output_type": "stream",
     "text": [
      "{'person': {'name': 'Kenn', 'sex': 'male', 'age': 28}}\n",
      "<class 'dict'>\n",
      "{'name': 'Kenn', 'sex': 'male', 'age': 28}\n"
     ]
    }
   ],
   "source": [
    "import json\n",
    "x='{\"person\":{\"name\":\"Kenn\", \"sex\":\"male\", \"age\": 28}}'\n",
    "y=json.loads(x)\n",
    "print(y)\n",
    "print(type(y))\n",
    "print(y.get('person'))"
   ]
  },
  {
   "cell_type": "code",
   "execution_count": 18,
   "id": "2ca71f2e",
   "metadata": {},
   "outputs": [
    {
     "name": "stdout",
     "output_type": "stream",
     "text": [
      "28\n"
     ]
    }
   ],
   "source": [
    "import json\n",
    "with open(\"json_file.json\") as file_obj:\n",
    "    data=json.load(file_obj)\n",
    "\n",
    "print(data['person']['age'])    "
   ]
  },
  {
   "cell_type": "code",
   "execution_count": 21,
   "id": "18ad0955",
   "metadata": {},
   "outputs": [
    {
     "name": "stdout",
     "output_type": "stream",
     "text": [
      "[\"a\",\"b\",\"c\",{\"4\":5,\"6\":7}]\n"
     ]
    }
   ],
   "source": [
    "import json\n",
    "lst=['a', 'b', 'c', {'4':5,'6':7}]\n",
    "compact_obj=json.dumps(lst,separators=(',',':'))\n",
    "print(compact_obj)"
   ]
  },
  {
   "cell_type": "code",
   "execution_count": 23,
   "id": "e51cbf69",
   "metadata": {},
   "outputs": [
    {
     "name": "stdout",
     "output_type": "stream",
     "text": [
      "{\n",
      " \"a\": 4,\n",
      " \"b\": 5\n",
      "}\n"
     ]
    }
   ],
   "source": [
    "import json\n",
    "dic={'a':4,'b':5}\n",
    "formated=json.dumps(dic,indent=1)\n",
    "print(formated)"
   ]
  },
  {
   "cell_type": "code",
   "execution_count": 26,
   "id": "0a580ec9",
   "metadata": {},
   "outputs": [
    {
     "name": "stdout",
     "output_type": "stream",
     "text": [
      "[4.0, 5.0]\n"
     ]
    }
   ],
   "source": [
    "import json\n",
    "def complex_encode(object):\n",
    "    if isinstance(object,complex):\n",
    "        return [object.real,object.imag]\n",
    "    raise TypeError(repr(object) + \"is not JSON\")\n",
    "    \n",
    "complex_obj=json.dumps(4+5j, default=complex_encode) \n",
    "print(complex_obj)"
   ]
  },
  {
   "cell_type": "code",
   "execution_count": 29,
   "id": "5e7ffb25",
   "metadata": {},
   "outputs": [
    {
     "name": "stdout",
     "output_type": "stream",
     "text": [
      "80\n"
     ]
    }
   ],
   "source": [
    "import json\n",
    "sampleDict = { \n",
    "   \"class\":{ \n",
    "      \"student\":{ \n",
    "         \"name\":\"Mike\",\n",
    "         \"marks\":{ \n",
    "            \"physics\":70,\n",
    "            \"history\":80\n",
    "         }\n",
    "      }\n",
    "   }\n",
    "}\n",
    "with open(\"json.json\", \"w\") as file:\n",
    "    json.dump(sampleDict,file)\n",
    "    \n",
    "with open(\"json.json\") as file_read:\n",
    "    data=json.load(file_read)\n",
    "\n",
    "print(data[\"class\"][\"student\"][\"marks\"][\"history\"])     "
   ]
  },
  {
   "cell_type": "code",
   "execution_count": 31,
   "id": "346f9488",
   "metadata": {},
   "outputs": [],
   "source": [
    "#student dict, student key, value-n list, yur arheq@ dict, student, email, subject, marks key-er irenc valunerov, grel jusonum, kardal ev artacel student cucak"
   ]
  },
  {
   "cell_type": "code",
   "execution_count": 2,
   "id": "bcb0bba0",
   "metadata": {},
   "outputs": [
    {
     "name": "stdout",
     "output_type": "stream",
     "text": [
      "Artur\n"
     ]
    }
   ],
   "source": [
    "import json\n",
    "student={\"student_key\":[{\"name\":\"Astghik\",\"email\":\"ast@gmail.com\",\"subject\":\"economics\",\"marks\":80},\n",
    "                    {\"name\":\"Artur\",\"email\":\"art@gmail.com\",\"subject\":\"economics\",\"marks\":90}]}\n",
    "with open(\"json2.json\", \"w\") as fileJ:\n",
    "    json.dump(student,fileJ)\n",
    "with open(\"json2.json\") as file_read:\n",
    "    data=json.load(file_read)\n",
    "    for i in data[\"student_key\"]:\n",
    "        if i[\"marks\"]>81:\n",
    "            print(i['name'])\n"
   ]
  },
  {
   "cell_type": "code",
   "execution_count": 8,
   "id": "55cfbb85",
   "metadata": {},
   "outputs": [
    {
     "data": {
      "text/plain": [
       "'{\"color\": [\"red\", \"yellow\", \"green\"]}'"
      ]
     },
     "execution_count": 8,
     "metadata": {},
     "output_type": "execute_result"
    }
   ],
   "source": [
    "from json.encoder import JSONEncoder\n",
    "dic={'color':['red','yellow','green']}\n",
    "JSONEncoder().encode(dic)\n"
   ]
  },
  {
   "cell_type": "code",
   "execution_count": 13,
   "id": "8163926a",
   "metadata": {},
   "outputs": [
    {
     "data": {
      "text/plain": [
       "{'color': ['red', 'yellow', 'green']}"
      ]
     },
     "execution_count": 13,
     "metadata": {},
     "output_type": "execute_result"
    }
   ],
   "source": [
    "from json.decoder import JSONDecoder\n",
    "dic='{\"color\":[\"red\",\"yellow\",\"green\"]}'\n",
    "JSONDecoder().decode(dic)"
   ]
  },
  {
   "cell_type": "code",
   "execution_count": 17,
   "id": "ca445e02",
   "metadata": {},
   "outputs": [
    {
     "name": "stdout",
     "output_type": "stream",
     "text": [
      "{'student_key': [{'name': 'Astghik', 'email': 'ast@gmail.com', 'subject': 'economics', 'marks': 80}, {'name': 'Artur', 'email': 'art@gmail.com', 'subject': 'economics', 'marks': 90}]}\n"
     ]
    }
   ],
   "source": [
    "import json\n",
    "try:\n",
    "    with open(\"json2.json\") as file_read:\n",
    "        data=json.load(file_read)\n",
    "        print(data)\n",
    "except ValueError:\n",
    "    print(\"Change Json file\")"
   ]
  },
  {
   "cell_type": "code",
   "execution_count": null,
   "id": "7e6d477b",
   "metadata": {},
   "outputs": [],
   "source": []
  }
 ],
 "metadata": {
  "kernelspec": {
   "display_name": "Python 3",
   "language": "python",
   "name": "python3"
  },
  "language_info": {
   "codemirror_mode": {
    "name": "ipython",
    "version": 3
   },
   "file_extension": ".py",
   "mimetype": "text/x-python",
   "name": "python",
   "nbconvert_exporter": "python",
   "pygments_lexer": "ipython3",
   "version": "3.8.8"
  }
 },
 "nbformat": 4,
 "nbformat_minor": 5
}
