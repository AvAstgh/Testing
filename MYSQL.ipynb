{
 "cells": [
  {
   "cell_type": "code",
   "execution_count": 1,
   "id": "0a4befb7",
   "metadata": {},
   "outputs": [],
   "source": [
    "import mysql.connector "
   ]
  },
  {
   "cell_type": "code",
   "execution_count": 7,
   "id": "f1926a20",
   "metadata": {},
   "outputs": [
    {
     "name": "stdout",
     "output_type": "stream",
     "text": [
      "User name: root\n",
      "Password: ········\n",
      "<mysql.connector.connection_cext.CMySQLConnection object at 0x000002064CB8ACD0>\n"
     ]
    }
   ],
   "source": [
    "from getpass import getpass\n",
    "\n",
    "from mysql.connector import connect, Error\n",
    "try:\n",
    "    with connect(\n",
    "        host=\"localhost\",\n",
    "    user=input(\"User name: \"),\n",
    "    password=getpass(\"Password: \"),\n",
    "    ) as connection:\n",
    "        print(connection)\n",
    "except Error as e:\n",
    "    print(e)"
   ]
  },
  {
   "cell_type": "raw",
   "id": "85906d86",
   "metadata": {},
   "source": [
    "         "
   ]
  },
  {
   "cell_type": "code",
   "execution_count": 2,
   "id": "d39ef035",
   "metadata": {},
   "outputs": [
    {
     "name": "stdout",
     "output_type": "stream",
     "text": [
      "User name: root\n",
      "Password: ········\n",
      "1007 (HY000): Can't create database 'online_movie_rating'; database exists\n"
     ]
    }
   ],
   "source": [
    "from getpass import getpass\n",
    "from mysql.connector import connect, Error\n",
    "try:\n",
    "    with connect(\n",
    "        host=\"localhost\",\n",
    "        user=input(\"User name: \"),\n",
    "        password=getpass(\"Password: \"),\n",
    "    ) as connection:\n",
    "        create_db_query=\"CREATE DATABASE online_movie_rating\"\n",
    "        with connection.cursor() as cursor:\n",
    "            cursor.execute(create_db_query) \n",
    "except Error as e:\n",
    "    print(e)   "
   ]
  },
  {
   "cell_type": "code",
   "execution_count": 3,
   "id": "54491f5b",
   "metadata": {},
   "outputs": [
    {
     "name": "stdout",
     "output_type": "stream",
     "text": [
      "User name: root\n",
      "Password: ········\n",
      "('information_schema',)\n",
      "('mysql',)\n",
      "('online_movie_rating',)\n",
      "('performance_schema',)\n",
      "('sys',)\n"
     ]
    }
   ],
   "source": [
    "from getpass import getpass\n",
    "from mysql.connector import connect, Error\n",
    "try:\n",
    "    with connect(\n",
    "        host=\"localhost\",\n",
    "        user=input(\"User name: \"),\n",
    "        password=getpass(\"Password: \"),\n",
    "    ) as connection:\n",
    "        show_db_query=\"SHOW DATABASES\"\n",
    "        with connection.cursor() as cursor:\n",
    "            cursor.execute(show_db_query)\n",
    "            for db in cursor:\n",
    "                print(db)\n",
    "except Error as e:\n",
    "    print(e)                "
   ]
  },
  {
   "cell_type": "code",
   "execution_count": 4,
   "id": "86739cb9",
   "metadata": {},
   "outputs": [
    {
     "name": "stdout",
     "output_type": "stream",
     "text": [
      "User name: root\n",
      "Password: ········\n",
      "<mysql.connector.connection_cext.CMySQLConnection object at 0x000002CA9F2D3760>\n"
     ]
    }
   ],
   "source": [
    "from getpass import getpass\n",
    "from mysql.connector import connect, Error\n",
    "try:\n",
    "    with connect(\n",
    "        host=\"localhost\",\n",
    "        user=input(\"User name: \"),\n",
    "        password=getpass(\"Password: \"),\n",
    "        database=\"online_movie_rating\",\n",
    "    ) as connection:\n",
    "        print(connection)\n",
    "except Error as e:\n",
    "    print(e)         "
   ]
  },
  {
   "cell_type": "code",
   "execution_count": 8,
   "id": "2d4e89c2",
   "metadata": {},
   "outputs": [
    {
     "name": "stdout",
     "output_type": "stream",
     "text": [
      "User name: root\n",
      "Password: ········\n"
     ]
    }
   ],
   "source": [
    "from getpass import getpass\n",
    "from mysql.connector import connect, Error\n",
    "try:\n",
    "    with connect(\n",
    "        host=\"localhost\",\n",
    "        user=input(\"User name: \"),\n",
    "        password=getpass(\"Password: \"),\n",
    "        database=\"online_movie_rating\",\n",
    "    ) as connection:\n",
    "        create_movies_table_query=\"\"\"\n",
    "        CREATE TABLE movies(\n",
    "            id INT AUTO_INCREMENT  PRIMARY KEY,\n",
    "            title VARCHAR(100),\n",
    "            release_year YEAR(4),\n",
    "            genre VARCHAR(100),\n",
    "            collection_in_mil INT\n",
    "        )\n",
    "        \"\"\"\n",
    "        \n",
    "        with connection.cursor() as cursor:\n",
    "            cursor.execute(create_movies_table_query)\n",
    "            connection.commit()\n",
    "except Error as e:\n",
    "    print(e) "
   ]
  },
  {
   "cell_type": "code",
   "execution_count": 4,
   "id": "b7f37cec",
   "metadata": {},
   "outputs": [
    {
     "name": "stdout",
     "output_type": "stream",
     "text": [
      "User name: root\n",
      "Password: ········\n"
     ]
    }
   ],
   "source": [
    "from getpass import getpass\n",
    "from mysql.connector import connect, Error\n",
    "try:\n",
    "    with connect(\n",
    "        host=\"localhost\",\n",
    "        user=input(\"User name: \"),\n",
    "        password=getpass(\"Password: \"),\n",
    "        database=\"online_movie_rating\",\n",
    "    ) as connection:\n",
    "        create_reviewers_table_query=\"\"\"\n",
    "        CREATE TABLE reviewers(\n",
    "            id INT AUTO_INCREMENT  PRIMARY KEY,\n",
    "            first_name VARCHAR(100),\n",
    "            last_name VARCHAR(100)\n",
    "        )\n",
    "        \"\"\"\n",
    "        \n",
    "        with connection.cursor() as cursor:\n",
    "            cursor.execute(create_reviewers_table_query)\n",
    "            connection.commit()\n",
    "except Error as e:\n",
    "    print(e) "
   ]
  },
  {
   "cell_type": "code",
   "execution_count": 5,
   "id": "2efefaa8",
   "metadata": {},
   "outputs": [
    {
     "name": "stdout",
     "output_type": "stream",
     "text": [
      "User name: root\n",
      "Password: ········\n"
     ]
    }
   ],
   "source": [
    "from getpass import getpass\n",
    "from mysql.connector import connect, Error\n",
    "try:\n",
    "    with connect(\n",
    "        host=\"localhost\",\n",
    "        user=input(\"User name: \"),\n",
    "        password=getpass(\"Password: \"),\n",
    "        database=\"online_movie_rating\",\n",
    "    ) as connection:\n",
    "        create_ratings_table_query=\"\"\"\n",
    "        CREATE TABLE ratings(\n",
    "            movie_id INT,\n",
    "            reviewer_id INT,\n",
    "            rating DECIMAL(2,1),\n",
    "            FOREIGN KEY(movie_id) REFERENCES movies(id),\n",
    "            FOREIGN KEY(reviewer_id) REFERENCES reviewers(id),\n",
    "            PRIMARY KEY(movie_id,reviewer_id)\n",
    "        )\n",
    "        \"\"\"\n",
    "        \n",
    "        with connection.cursor() as cursor:\n",
    "            cursor.execute(create_ratings_table_query)\n",
    "            connection.commit()\n",
    "except Error as e:\n",
    "    print(e) "
   ]
  },
  {
   "cell_type": "code",
   "execution_count": 6,
   "id": "29f20a45",
   "metadata": {},
   "outputs": [
    {
     "name": "stdout",
     "output_type": "stream",
     "text": [
      "User name: root\n",
      "Password: ········\n",
      "('movies',)\n",
      "('ratings',)\n",
      "('reviewers',)\n"
     ]
    }
   ],
   "source": [
    "from getpass import getpass\n",
    "from mysql.connector import connect, Error\n",
    "try:\n",
    "    with connect(\n",
    "        host=\"localhost\",\n",
    "        user=input(\"User name: \"),\n",
    "        password=getpass(\"Password: \"),\n",
    "        database=\"online_movie_rating\",\n",
    "    ) as connection:\n",
    "        show_table=\"SHOW TABLES\"\n",
    "        with connection.cursor() as cursor:\n",
    "            cursor.execute(show_table)\n",
    "            result=cursor.fetchall()\n",
    "            for row in result:\n",
    "                print(row)\n",
    "except Error as e:\n",
    "    print(e) "
   ]
  },
  {
   "cell_type": "code",
   "execution_count": 10,
   "id": "3e9089f5",
   "metadata": {},
   "outputs": [
    {
     "name": "stdout",
     "output_type": "stream",
     "text": [
      "User name: root\n",
      "Password: ········\n",
      "('id', b'int', 'NO', 'PRI', None, 'auto_increment')\n",
      "('title', b'varchar(100)', 'YES', '', None, '')\n",
      "('release_year', b'year', 'YES', '', None, '')\n",
      "('genre', b'varchar(100)', 'YES', '', None, '')\n",
      "('collection_in_mil', b'int', 'YES', '', None, '')\n"
     ]
    }
   ],
   "source": [
    "from getpass import getpass\n",
    "from mysql.connector import connect, Error\n",
    "try:\n",
    "    with connect(\n",
    "        host=\"localhost\",\n",
    "        user=input(\"User name: \"),\n",
    "        password=getpass(\"Password: \"),\n",
    "        database=\"online_movie_rating\",\n",
    "    ) as connection:\n",
    "        show_table_query=\"DESCRIBE movies\"\n",
    "        with connection.cursor() as cursor:\n",
    "            cursor.execute(show_table_query)\n",
    "            result=cursor.fetchall()\n",
    "            for row in result:\n",
    "                print(row)\n",
    "except Error as e:\n",
    "    print(e) "
   ]
  },
  {
   "cell_type": "code",
   "execution_count": 12,
   "id": "17745dd8",
   "metadata": {},
   "outputs": [
    {
     "name": "stdout",
     "output_type": "stream",
     "text": [
      "User name: root\n",
      "Password: ········\n",
      "('id', b'int', 'NO', 'PRI', None, 'auto_increment')\n",
      "('title', b'varchar(100)', 'YES', '', None, '')\n",
      "('release_year', b'year', 'YES', '', None, '')\n",
      "('genre', b'varchar(100)', 'YES', '', None, '')\n",
      "('collection_in_mil', b'decimal(4,1)', 'YES', '', None, '')\n"
     ]
    }
   ],
   "source": [
    "from getpass import getpass\n",
    "from mysql.connector import connect, Error\n",
    "try:\n",
    "    with connect(\n",
    "        host=\"localhost\",\n",
    "        user=input(\"User name: \"),\n",
    "        password=getpass(\"Password: \"),\n",
    "        database=\"online_movie_rating\",\n",
    "    ) as connection:\n",
    "        alter_table_query=\"\"\"\n",
    "            ALTER TABLE movies\n",
    "            MODIFY COLUMN collection_in_mil DECIMAL(4,1)\n",
    "            \"\"\"\n",
    "        show_table_query=\"DESCRIBE movies\"\n",
    "        with connection.cursor() as cursor:\n",
    "            cursor.execute(alter_table_query)\n",
    "            cursor.execute(show_table_query)\n",
    "            result=cursor.fetchall()\n",
    "            for row in result:\n",
    "                print(row)\n",
    "except Error as e:\n",
    "    print(e) "
   ]
  },
  {
   "cell_type": "code",
   "execution_count": 13,
   "id": "96fe490b",
   "metadata": {},
   "outputs": [
    {
     "name": "stdout",
     "output_type": "stream",
     "text": [
      "User name: root\n",
      "Password: ········\n"
     ]
    }
   ],
   "source": [
    "from getpass import getpass\n",
    "from mysql.connector import connect, Error\n",
    "try:\n",
    "    with connect(\n",
    "        host=\"localhost\",\n",
    "        user=input(\"User name: \"),\n",
    "        password=getpass(\"Password: \"),\n",
    "        database=\"online_movie_rating\",\n",
    "    ) as connection:\n",
    "        drop_table_query=\"DROP TABLE ratings\"\n",
    "        with connection.cursor() as cursor:\n",
    "            cursor.execute(drop_table_query)\n",
    "        \n",
    "except Error as e:\n",
    "    print(e) "
   ]
  },
  {
   "cell_type": "code",
   "execution_count": 14,
   "id": "12bdd886",
   "metadata": {},
   "outputs": [
    {
     "name": "stdout",
     "output_type": "stream",
     "text": [
      "User name: root\n",
      "Password: ········\n",
      "('movies',)\n",
      "('reviewers',)\n"
     ]
    }
   ],
   "source": [
    "from getpass import getpass\n",
    "from mysql.connector import connect, Error\n",
    "try:\n",
    "    with connect(\n",
    "        host=\"localhost\",\n",
    "        user=input(\"User name: \"),\n",
    "        password=getpass(\"Password: \"),\n",
    "        database=\"online_movie_rating\",\n",
    "    ) as connection:\n",
    "        show_table=\"SHOW TABLES\"\n",
    "        with connection.cursor() as cursor:\n",
    "            cursor.execute(show_table)\n",
    "            result=cursor.fetchall()\n",
    "            for row in result:\n",
    "                print(row)\n",
    "except Error as e:\n",
    "    print(e) "
   ]
  },
  {
   "cell_type": "code",
   "execution_count": 15,
   "id": "f4c5ff7c",
   "metadata": {},
   "outputs": [
    {
     "name": "stdout",
     "output_type": "stream",
     "text": [
      "User name: root\n",
      "Password: ········\n"
     ]
    }
   ],
   "source": [
    "from getpass import getpass\n",
    "from mysql.connector import connect, Error\n",
    "try:\n",
    "    with connect(\n",
    "        host=\"localhost\",\n",
    "        user=input(\"User name: \"),\n",
    "        password=getpass(\"Password: \"),\n",
    "        database=\"online_movie_rating\",\n",
    "    ) as connection:\n",
    "        create_ratings_table_query=\"\"\"\n",
    "        CREATE TABLE ratings(\n",
    "            movie_id INT,\n",
    "            reviewer_id INT,\n",
    "            rating DECIMAL(2,1),\n",
    "            FOREIGN KEY(movie_id) REFERENCES movies(id),\n",
    "            FOREIGN KEY(reviewer_id) REFERENCES reviewers(id),\n",
    "            PRIMARY KEY(movie_id,reviewer_id)\n",
    "        )\n",
    "        \"\"\"\n",
    "        \n",
    "        with connection.cursor() as cursor:\n",
    "            cursor.execute(create_ratings_table_query)\n",
    "            connection.commit()\n",
    "except Error as e:\n",
    "    print(e) "
   ]
  },
  {
   "cell_type": "code",
   "execution_count": 16,
   "id": "a8523d44",
   "metadata": {},
   "outputs": [
    {
     "name": "stdout",
     "output_type": "stream",
     "text": [
      "User name: root\n",
      "Password: ········\n",
      "('movies',)\n",
      "('ratings',)\n",
      "('reviewers',)\n"
     ]
    }
   ],
   "source": [
    "from getpass import getpass\n",
    "from mysql.connector import connect, Error\n",
    "try:\n",
    "    with connect(\n",
    "        host=\"localhost\",\n",
    "        user=input(\"User name: \"),\n",
    "        password=getpass(\"Password: \"),\n",
    "        database=\"online_movie_rating\",\n",
    "    ) as connection:\n",
    "        show_table=\"SHOW TABLES\"\n",
    "        with connection.cursor() as cursor:\n",
    "            cursor.execute(show_table)\n",
    "            result=cursor.fetchall()\n",
    "            for row in result:\n",
    "                print(row)\n",
    "except Error as e:\n",
    "    print(e) \n",
    "    "
   ]
  },
  {
   "cell_type": "code",
   "execution_count": 17,
   "id": "30742b2e",
   "metadata": {},
   "outputs": [
    {
     "name": "stdout",
     "output_type": "stream",
     "text": [
      "User name: root\n",
      "Password: ········\n"
     ]
    }
   ],
   "source": [
    "from getpass import getpass\n",
    "from mysql.connector import connect, Error\n",
    "try:\n",
    "    with connect(\n",
    "        host=\"localhost\",\n",
    "        user=input(\"User name: \"),\n",
    "        password=getpass(\"Password: \"),\n",
    "        database=\"online_movie_rating\",\n",
    "    ) as connection:\n",
    "        insert_movies_query=\"\"\"\n",
    "            INSERT INTO movies (title, release_year,genre,collection_in_mil)\n",
    "            VALUES\n",
    "                (\"Forrest Gump\",1994,\"Drama\",330.2),\n",
    "                (\"3 Itiots\", 2009, \"Drama\", 2.4),\n",
    "                (\"Good will hunting\",1997, \"Drama\", 138.1),\n",
    "                (\"Skyfall\",2012,\"Action\", 304.6),\n",
    "                (\"Gladiator\",2000,\"Action\",188.7)\n",
    "            \"\"\"    \n",
    "        with connection.cursor() as cursor:\n",
    "            cursor.execute(insert_movies_query)\n",
    "            connection.commit()   \n",
    "except Error as e:\n",
    "    print(e) "
   ]
  },
  {
   "cell_type": "code",
   "execution_count": 19,
   "id": "bb4339cb",
   "metadata": {},
   "outputs": [
    {
     "name": "stdout",
     "output_type": "stream",
     "text": [
      "User name: root\n",
      "Password: ········\n"
     ]
    }
   ],
   "source": [
    "from getpass import getpass\n",
    "from mysql.connector import connect, Error\n",
    "try:\n",
    "    with connect(\n",
    "        host=\"localhost\",\n",
    "        user=input(\"User name: \"),\n",
    "        password=getpass(\"Password: \"),\n",
    "        database=\"online_movie_rating\",\n",
    "    ) as connection:\n",
    "        insert_reviewres_query=\"\"\"\n",
    "            INSERT INTO reviewers (first_name,last_name)\n",
    "            VALUES(%s,%s)\n",
    "            \"\"\"\n",
    "        reviewers_records= [\n",
    "            (\"Astghik\", \"Avetisyan\"),\n",
    "            (\"Karapet\", \"Kogarov\"),\n",
    "            (\"Artur\", \"Kogarov\"),\n",
    "            (\"Anri\", \"Kogarov\")\n",
    "        ]      \n",
    "                \n",
    "        with connection.cursor() as cursor:\n",
    "            cursor.executemany(insert_reviewres_query,reviewers_records)\n",
    "            connection.commit()   \n",
    "except Error as e:\n",
    "    print(e) "
   ]
  },
  {
   "cell_type": "code",
   "execution_count": null,
   "id": "7df347a1",
   "metadata": {},
   "outputs": [],
   "source": []
  }
 ],
 "metadata": {
  "kernelspec": {
   "display_name": "Python 3",
   "language": "python",
   "name": "python3"
  },
  "language_info": {
   "codemirror_mode": {
    "name": "ipython",
    "version": 3
   },
   "file_extension": ".py",
   "mimetype": "text/x-python",
   "name": "python",
   "nbconvert_exporter": "python",
   "pygments_lexer": "ipython3",
   "version": "3.8.8"
  }
 },
 "nbformat": 4,
 "nbformat_minor": 5
}
